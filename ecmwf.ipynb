from datetime import datetime, timedelta, date
import time
import warnings
warnings.simplefilter(action='ignore', category=FutureWarning)
from ecmwf.opendata import Client
import xarray as xr
client = Client(source="ecmwf")

class ecmwf_data():
    
    def ecmwf_data_ocean():
        import xarray as xr
        import pandas as pd
        #parameters_list = ["mwd", "mwp", "pp1d", "swh", "mp2", "t2m"]
        list_df_ocean = []
        time_list = [24]
        for step in time_list:
            result = client.retrieve(
                type="fc",
                step=step,
                #param=parameters_list,
                target="data.grib2",
                stream = "wave")

            data = xr.open_dataset('data.grib2', engine='cfgrib')

            df = data
            df = df.to_dataframe()
            df = df.reset_index()
            #df = df.rename(columns={})
            list_df_ocean.append(df)
        print("creo dataset oceanico ECMWF")
        df_ocean = pd.concat(list_df_ocean)
        print("dataset oceanico creato correttamente")
        return df_ocean   
            
    def ecmwf_data_atmos():
        import xarray as xr
        import pandas as pd
        parameters_list1 = ["t", "u", "v", "r"]
        list_df_atmos = []
        time_list = [24]
        for step in time_list:
            result = client.retrieve(
                    type="fc",
                    step=step,
                    param=parameters_list1,
                    target="data.grib2",
                    levelist = [1000],
                    stream = "oper")
            data1 = xr.open_dataset('data.grib2', engine='cfgrib')
            df1 = data1
            df1 = df1.to_dataframe()
            df1 = df1.reset_index()
            df1["t"] = df1["t"] - 273.15
            #df1 = df1.rename(columns={"t": "temp"})
            list_df_atmos.append(df1)
        print("creo dataset atmosferico ECMWF")
        df_atm = pd.concat(list_df_atmos)
        print("dataset atmosferico creato correttamente")
        return df_atm

while 1:
    import pandas as pd
    df_ocean = ecmwf_data.ecmwf_data_ocean()
    df_atm = ecmwf_data.ecmwf_data_atmos()
    now = datetime.now()
    now = now.strftime('%Y-%m-%d %H:%M:%S')
    now = now.replace("-", "").replace(":", "").replace(" ", "")
    #filename_atmos = "ecmwf_data_atmos" + now +".csv"
    #filename_ocean = "ecmwf_data_ocean" + now +".csv"
    filename_atmos = "ecmwf_data_atmos" + now +".json"
    filename_ocean = "ecmwf_data_ocean" + now +".json"
    
    df_atm = df_atm.drop(["time", "step"], axis = 1)
    #df_atm.to_csv(filename_atmos, sep = ";")
    df_atm.to_json(filename_atmos)
    print("Dataset ECMWF atmosferico esportato correttamente!")
    df_ocean = df_ocean.drop(["time", "step"], axis = 1)
    #df_ocean.to_csv(filename_ocean, sep = ";")
    df_ocean.to_json(filename_ocean)
    print("Dataset ECMWF oceanico esportato correttamente!")
    dt = datetime.now() + timedelta(days=1)
    
    while datetime.now() < dt:
        
        time.sleep(1)
